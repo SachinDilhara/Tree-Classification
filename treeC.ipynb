{
 "cells": [
  {
   "cell_type": "code",
   "execution_count": 677,
   "id": "fb743dee-27ef-401f-93d5-85ccb858d41c",
   "metadata": {},
   "outputs": [],
   "source": [
    "import pandas as pd\n",
    "from sklearn.model_selection import train_test_split\n",
    "from sklearn.ensemble import RandomForestClassifier\n",
    "from sklearn.metrics import accuracy_score\n",
    "import tensorflow as tf\n",
    "import numpy as np"
   ]
  },
  {
   "cell_type": "code",
   "execution_count": 678,
   "id": "a0853d1f-7a74-475f-8dff-54d2e386f129",
   "metadata": {},
   "outputs": [],
   "source": [
    "data = pd.read_excel('combined.xlsx')"
   ]
  },
  {
   "cell_type": "code",
   "execution_count": 679,
   "id": "dbcedb39-4111-4749-9c67-42842b682afb",
   "metadata": {},
   "outputs": [
    {
     "data": {
      "text/html": [
       "<div>\n",
       "<style scoped>\n",
       "    .dataframe tbody tr th:only-of-type {\n",
       "        vertical-align: middle;\n",
       "    }\n",
       "\n",
       "    .dataframe tbody tr th {\n",
       "        vertical-align: top;\n",
       "    }\n",
       "\n",
       "    .dataframe thead th {\n",
       "        text-align: right;\n",
       "    }\n",
       "</style>\n",
       "<table border=\"1\" class=\"dataframe\">\n",
       "  <thead>\n",
       "    <tr style=\"text-align: right;\">\n",
       "      <th></th>\n",
       "      <th>Apex angle</th>\n",
       "      <th>Base angle</th>\n",
       "      <th>Width(cm)</th>\n",
       "      <th>Height(cm)</th>\n",
       "      <th>Ratio (H/W)</th>\n",
       "      <th>Angle of vain</th>\n",
       "      <th>Leaf</th>\n",
       "    </tr>\n",
       "  </thead>\n",
       "  <tbody>\n",
       "    <tr>\n",
       "      <th>0</th>\n",
       "      <td>140.0</td>\n",
       "      <td>119.0</td>\n",
       "      <td>10.9</td>\n",
       "      <td>17.0</td>\n",
       "      <td>1.559633</td>\n",
       "      <td>71.0</td>\n",
       "      <td>0</td>\n",
       "    </tr>\n",
       "    <tr>\n",
       "      <th>1</th>\n",
       "      <td>144.0</td>\n",
       "      <td>103.0</td>\n",
       "      <td>11.7</td>\n",
       "      <td>18.3</td>\n",
       "      <td>1.564103</td>\n",
       "      <td>71.0</td>\n",
       "      <td>0</td>\n",
       "    </tr>\n",
       "    <tr>\n",
       "      <th>2</th>\n",
       "      <td>146.0</td>\n",
       "      <td>101.0</td>\n",
       "      <td>10.3</td>\n",
       "      <td>16.9</td>\n",
       "      <td>1.640777</td>\n",
       "      <td>59.0</td>\n",
       "      <td>0</td>\n",
       "    </tr>\n",
       "    <tr>\n",
       "      <th>3</th>\n",
       "      <td>144.0</td>\n",
       "      <td>104.0</td>\n",
       "      <td>9.4</td>\n",
       "      <td>14.7</td>\n",
       "      <td>1.563830</td>\n",
       "      <td>61.0</td>\n",
       "      <td>0</td>\n",
       "    </tr>\n",
       "    <tr>\n",
       "      <th>4</th>\n",
       "      <td>150.0</td>\n",
       "      <td>126.0</td>\n",
       "      <td>11.0</td>\n",
       "      <td>17.0</td>\n",
       "      <td>1.545455</td>\n",
       "      <td>68.0</td>\n",
       "      <td>0</td>\n",
       "    </tr>\n",
       "  </tbody>\n",
       "</table>\n",
       "</div>"
      ],
      "text/plain": [
       "   Apex angle  Base angle  Width(cm)  Height(cm)  Ratio (H/W)  Angle of vain  \\\n",
       "0       140.0       119.0       10.9        17.0     1.559633           71.0   \n",
       "1       144.0       103.0       11.7        18.3     1.564103           71.0   \n",
       "2       146.0       101.0       10.3        16.9     1.640777           59.0   \n",
       "3       144.0       104.0        9.4        14.7     1.563830           61.0   \n",
       "4       150.0       126.0       11.0        17.0     1.545455           68.0   \n",
       "\n",
       "   Leaf  \n",
       "0     0  \n",
       "1     0  \n",
       "2     0  \n",
       "3     0  \n",
       "4     0  "
      ]
     },
     "execution_count": 679,
     "metadata": {},
     "output_type": "execute_result"
    }
   ],
   "source": [
    "data.head(5)"
   ]
  },
  {
   "cell_type": "code",
   "execution_count": 680,
   "id": "bcc8609e-4363-46c7-b4b2-e4e35b14b0e8",
   "metadata": {},
   "outputs": [],
   "source": [
    "data.drop([\"Width(cm)\", \"Height(cm)\", \"Angle of vain\"], axis=1, inplace=True)\n",
    "data.rename(columns={'leaf': 'Leaf'}, inplace=True)"
   ]
  },
  {
   "cell_type": "code",
   "execution_count": 681,
   "id": "c7fdf585-d84c-4336-91ca-525bfbdaa7ca",
   "metadata": {},
   "outputs": [
    {
     "data": {
      "text/html": [
       "<div>\n",
       "<style scoped>\n",
       "    .dataframe tbody tr th:only-of-type {\n",
       "        vertical-align: middle;\n",
       "    }\n",
       "\n",
       "    .dataframe tbody tr th {\n",
       "        vertical-align: top;\n",
       "    }\n",
       "\n",
       "    .dataframe thead th {\n",
       "        text-align: right;\n",
       "    }\n",
       "</style>\n",
       "<table border=\"1\" class=\"dataframe\">\n",
       "  <thead>\n",
       "    <tr style=\"text-align: right;\">\n",
       "      <th></th>\n",
       "      <th>Apex angle</th>\n",
       "      <th>Base angle</th>\n",
       "      <th>Ratio (H/W)</th>\n",
       "      <th>Leaf</th>\n",
       "    </tr>\n",
       "  </thead>\n",
       "  <tbody>\n",
       "    <tr>\n",
       "      <th>0</th>\n",
       "      <td>140.0</td>\n",
       "      <td>119.0</td>\n",
       "      <td>1.559633</td>\n",
       "      <td>0</td>\n",
       "    </tr>\n",
       "    <tr>\n",
       "      <th>1</th>\n",
       "      <td>144.0</td>\n",
       "      <td>103.0</td>\n",
       "      <td>1.564103</td>\n",
       "      <td>0</td>\n",
       "    </tr>\n",
       "    <tr>\n",
       "      <th>2</th>\n",
       "      <td>146.0</td>\n",
       "      <td>101.0</td>\n",
       "      <td>1.640777</td>\n",
       "      <td>0</td>\n",
       "    </tr>\n",
       "    <tr>\n",
       "      <th>3</th>\n",
       "      <td>144.0</td>\n",
       "      <td>104.0</td>\n",
       "      <td>1.563830</td>\n",
       "      <td>0</td>\n",
       "    </tr>\n",
       "    <tr>\n",
       "      <th>4</th>\n",
       "      <td>150.0</td>\n",
       "      <td>126.0</td>\n",
       "      <td>1.545455</td>\n",
       "      <td>0</td>\n",
       "    </tr>\n",
       "  </tbody>\n",
       "</table>\n",
       "</div>"
      ],
      "text/plain": [
       "   Apex angle  Base angle  Ratio (H/W)  Leaf\n",
       "0       140.0       119.0     1.559633     0\n",
       "1       144.0       103.0     1.564103     0\n",
       "2       146.0       101.0     1.640777     0\n",
       "3       144.0       104.0     1.563830     0\n",
       "4       150.0       126.0     1.545455     0"
      ]
     },
     "execution_count": 681,
     "metadata": {},
     "output_type": "execute_result"
    }
   ],
   "source": [
    "data.head(5)"
   ]
  },
  {
   "cell_type": "code",
   "execution_count": 682,
   "id": "59e9e472-1b60-4e3b-8c1e-326cd81ecdfd",
   "metadata": {},
   "outputs": [],
   "source": [
    "X = data.drop(\"Leaf\", axis=1)\n",
    "y = data[\"Leaf\"]"
   ]
  },
  {
   "cell_type": "code",
   "execution_count": 683,
   "id": "58ba0cd7-ed43-4b1c-a5cf-f6df807b5e1c",
   "metadata": {},
   "outputs": [],
   "source": [
    "from sklearn.preprocessing import MinMaxScaler\n",
    "scaler = MinMaxScaler()\n",
    "x_scaled = scaler.fit_transform(X)\n",
    "X = pd.DataFrame(x_scaled, columns=['Apex angle','Base angle','Ratio (H/W)'])"
   ]
  },
  {
   "cell_type": "code",
   "execution_count": 684,
   "id": "619d05ee-8f4e-4275-95b8-1156557bc6da",
   "metadata": {},
   "outputs": [
    {
     "data": {
      "text/html": [
       "<div>\n",
       "<style scoped>\n",
       "    .dataframe tbody tr th:only-of-type {\n",
       "        vertical-align: middle;\n",
       "    }\n",
       "\n",
       "    .dataframe tbody tr th {\n",
       "        vertical-align: top;\n",
       "    }\n",
       "\n",
       "    .dataframe thead th {\n",
       "        text-align: right;\n",
       "    }\n",
       "</style>\n",
       "<table border=\"1\" class=\"dataframe\">\n",
       "  <thead>\n",
       "    <tr style=\"text-align: right;\">\n",
       "      <th></th>\n",
       "      <th>Apex angle</th>\n",
       "      <th>Base angle</th>\n",
       "      <th>Ratio (H/W)</th>\n",
       "    </tr>\n",
       "  </thead>\n",
       "  <tbody>\n",
       "    <tr>\n",
       "      <th>0</th>\n",
       "      <td>0.565217</td>\n",
       "      <td>0.463158</td>\n",
       "      <td>0.762119</td>\n",
       "    </tr>\n",
       "    <tr>\n",
       "      <th>1</th>\n",
       "      <td>0.608696</td>\n",
       "      <td>0.294737</td>\n",
       "      <td>0.765386</td>\n",
       "    </tr>\n",
       "    <tr>\n",
       "      <th>2</th>\n",
       "      <td>0.630435</td>\n",
       "      <td>0.273684</td>\n",
       "      <td>0.821434</td>\n",
       "    </tr>\n",
       "    <tr>\n",
       "      <th>3</th>\n",
       "      <td>0.608696</td>\n",
       "      <td>0.305263</td>\n",
       "      <td>0.765187</td>\n",
       "    </tr>\n",
       "    <tr>\n",
       "      <th>4</th>\n",
       "      <td>0.673913</td>\n",
       "      <td>0.536842</td>\n",
       "      <td>0.751754</td>\n",
       "    </tr>\n",
       "  </tbody>\n",
       "</table>\n",
       "</div>"
      ],
      "text/plain": [
       "   Apex angle  Base angle  Ratio (H/W)\n",
       "0    0.565217    0.463158     0.762119\n",
       "1    0.608696    0.294737     0.765386\n",
       "2    0.630435    0.273684     0.821434\n",
       "3    0.608696    0.305263     0.765187\n",
       "4    0.673913    0.536842     0.751754"
      ]
     },
     "execution_count": 684,
     "metadata": {},
     "output_type": "execute_result"
    }
   ],
   "source": [
    "X.head(5)"
   ]
  },
  {
   "cell_type": "code",
   "execution_count": 685,
   "id": "0a35fe2d-4356-4141-a81b-04264a1e6cb2",
   "metadata": {},
   "outputs": [],
   "source": [
    "X_train, X_test, y_train, y_test = train_test_split(X, y, test_size=0.2, random_state=42)"
   ]
  },
  {
   "cell_type": "code",
   "execution_count": 686,
   "id": "1b3d3dab-7c58-4b71-b8fb-bd926231db5d",
   "metadata": {},
   "outputs": [
    {
     "data": {
      "text/plain": [
       "(24, 3)"
      ]
     },
     "execution_count": 686,
     "metadata": {},
     "output_type": "execute_result"
    }
   ],
   "source": [
    "X_test.shape"
   ]
  },
  {
   "cell_type": "code",
   "execution_count": 687,
   "id": "b8d4c8e7-68e9-409d-aaa1-678e62dda9d4",
   "metadata": {},
   "outputs": [],
   "source": [
    "model = tf.keras.Sequential([\n",
    "    tf.keras.layers.Dense(64, activation='relu', input_shape=(3,)),\n",
    "    tf.keras.layers.Dense(10, activation='relu'),\n",
    "    tf.keras.layers.Dense(3, activation='softmax')\n",
    "])"
   ]
  },
  {
   "cell_type": "code",
   "execution_count": 688,
   "id": "6267ca7b-5443-4d79-b957-42a8aa5e069c",
   "metadata": {},
   "outputs": [],
   "source": [
    "model.compile(\n",
    "    optimizer=tf.keras.optimizers.Adam(learning_rate=0.01),\n",
    "    loss='sparse_categorical_crossentropy',\n",
    "    metrics=['accuracy']\n",
    ")"
   ]
  },
  {
   "cell_type": "code",
   "execution_count": 689,
   "id": "eb54f59b-640a-4e14-b0ce-7978a883faaf",
   "metadata": {
    "scrolled": true
   },
   "outputs": [
    {
     "name": "stdout",
     "output_type": "stream",
     "text": [
      "Epoch 1/20\n",
      "3/3 [==============================] - 1s 117ms/step - loss: 1.0421 - accuracy: 0.4167 - val_loss: 0.9947 - val_accuracy: 0.6250\n",
      "Epoch 2/20\n",
      "3/3 [==============================] - 0s 17ms/step - loss: 0.9084 - accuracy: 0.6354 - val_loss: 0.9119 - val_accuracy: 0.6667\n",
      "Epoch 3/20\n",
      "3/3 [==============================] - 0s 18ms/step - loss: 0.8192 - accuracy: 0.6667 - val_loss: 0.8427 - val_accuracy: 0.6667\n",
      "Epoch 4/20\n",
      "3/3 [==============================] - 0s 16ms/step - loss: 0.7442 - accuracy: 0.6667 - val_loss: 0.7636 - val_accuracy: 0.6667\n",
      "Epoch 5/20\n",
      "3/3 [==============================] - 0s 15ms/step - loss: 0.6667 - accuracy: 0.6667 - val_loss: 0.6844 - val_accuracy: 0.6667\n",
      "Epoch 6/20\n",
      "3/3 [==============================] - 0s 14ms/step - loss: 0.6080 - accuracy: 0.6667 - val_loss: 0.6200 - val_accuracy: 0.6667\n",
      "Epoch 7/20\n",
      "3/3 [==============================] - 0s 14ms/step - loss: 0.5591 - accuracy: 0.6667 - val_loss: 0.5612 - val_accuracy: 0.7083\n",
      "Epoch 8/20\n",
      "3/3 [==============================] - 0s 15ms/step - loss: 0.5129 - accuracy: 0.6979 - val_loss: 0.5123 - val_accuracy: 0.7083\n",
      "Epoch 9/20\n",
      "3/3 [==============================] - 0s 15ms/step - loss: 0.4668 - accuracy: 0.7812 - val_loss: 0.4610 - val_accuracy: 0.8750\n",
      "Epoch 10/20\n",
      "3/3 [==============================] - 0s 14ms/step - loss: 0.4153 - accuracy: 0.8229 - val_loss: 0.4136 - val_accuracy: 0.8750\n",
      "Epoch 11/20\n",
      "3/3 [==============================] - 0s 14ms/step - loss: 0.3613 - accuracy: 0.8750 - val_loss: 0.3666 - val_accuracy: 0.9167\n",
      "Epoch 12/20\n",
      "3/3 [==============================] - 0s 14ms/step - loss: 0.3117 - accuracy: 0.9479 - val_loss: 0.3217 - val_accuracy: 1.0000\n",
      "Epoch 13/20\n",
      "3/3 [==============================] - 0s 14ms/step - loss: 0.2629 - accuracy: 0.9792 - val_loss: 0.2714 - val_accuracy: 1.0000\n",
      "Epoch 14/20\n",
      "3/3 [==============================] - 0s 15ms/step - loss: 0.2132 - accuracy: 0.9792 - val_loss: 0.2193 - val_accuracy: 1.0000\n",
      "Epoch 15/20\n",
      "3/3 [==============================] - 0s 14ms/step - loss: 0.1728 - accuracy: 0.9792 - val_loss: 0.1782 - val_accuracy: 1.0000\n",
      "Epoch 16/20\n",
      "3/3 [==============================] - 0s 15ms/step - loss: 0.1403 - accuracy: 0.9688 - val_loss: 0.1518 - val_accuracy: 1.0000\n",
      "Epoch 17/20\n",
      "3/3 [==============================] - 0s 15ms/step - loss: 0.1191 - accuracy: 0.9583 - val_loss: 0.1296 - val_accuracy: 1.0000\n",
      "Epoch 18/20\n",
      "3/3 [==============================] - 0s 39ms/step - loss: 0.1007 - accuracy: 0.9583 - val_loss: 0.1101 - val_accuracy: 1.0000\n",
      "Epoch 19/20\n",
      "3/3 [==============================] - 0s 19ms/step - loss: 0.0922 - accuracy: 0.9583 - val_loss: 0.0901 - val_accuracy: 1.0000\n",
      "Epoch 20/20\n",
      "3/3 [==============================] - 0s 13ms/step - loss: 0.0790 - accuracy: 0.9583 - val_loss: 0.0816 - val_accuracy: 1.0000\n"
     ]
    }
   ],
   "source": [
    "history = model.fit(X_train, y_train, epochs=20, batch_size=32, validation_data=(X_test, y_test))"
   ]
  },
  {
   "cell_type": "code",
   "execution_count": 690,
   "id": "85f2dcef-dd7c-44e1-94b2-313fab28eec7",
   "metadata": {
    "scrolled": true
   },
   "outputs": [
    {
     "name": "stdout",
     "output_type": "stream",
     "text": [
      "Model: \"sequential_28\"\n",
      "_________________________________________________________________\n",
      " Layer (type)                Output Shape              Param #   \n",
      "=================================================================\n",
      " dense_84 (Dense)            (None, 64)                256       \n",
      "                                                                 \n",
      " dense_85 (Dense)            (None, 10)                650       \n",
      "                                                                 \n",
      " dense_86 (Dense)            (None, 3)                 33        \n",
      "                                                                 \n",
      "=================================================================\n",
      "Total params: 939\n",
      "Trainable params: 939\n",
      "Non-trainable params: 0\n",
      "_________________________________________________________________\n"
     ]
    }
   ],
   "source": [
    "model.summary()"
   ]
  },
  {
   "cell_type": "code",
   "execution_count": 691,
   "id": "c2f1c30f-2f21-4b5b-acb9-e8625bc4d935",
   "metadata": {},
   "outputs": [
    {
     "name": "stdout",
     "output_type": "stream",
     "text": [
      "1/1 [==============================] - 0s 16ms/step - loss: 0.0816 - accuracy: 1.0000\n",
      "Test Accuracy: 1.0\n"
     ]
    }
   ],
   "source": [
    "test_loss, test_accuracy = model.evaluate(X_test, y_test)\n",
    "print(\"Test Accuracy:\", test_accuracy)"
   ]
  },
  {
   "cell_type": "code",
   "execution_count": 692,
   "id": "f370541a-2acf-4a78-9165-e9cb9ba5162b",
   "metadata": {},
   "outputs": [
    {
     "name": "stdout",
     "output_type": "stream",
     "text": [
      "1/1 [==============================] - 0s 45ms/step\n"
     ]
    }
   ],
   "source": [
    "y_pred = model.predict(X_test)"
   ]
  },
  {
   "cell_type": "code",
   "execution_count": 693,
   "id": "5bfa3483-3bd9-4e44-8930-fdaa8548112f",
   "metadata": {},
   "outputs": [],
   "source": [
    "predicted_classes = np.argmax(y_pred, axis=1)"
   ]
  },
  {
   "cell_type": "code",
   "execution_count": 694,
   "id": "64a68d27-0c55-4044-b117-f20516e0db46",
   "metadata": {},
   "outputs": [
    {
     "name": "stdout",
     "output_type": "stream",
     "text": [
      "[1 1 0 1 0 1 1 0 1 2 0 1 0 0 2 2 2 0 2 2 1 1 0 1]\n"
     ]
    }
   ],
   "source": [
    "print(predicted_classes)"
   ]
  },
  {
   "cell_type": "code",
   "execution_count": 695,
   "id": "2c7e2a3e-cb7e-49fb-b666-5b8d382465f5",
   "metadata": {},
   "outputs": [
    {
     "name": "stdout",
     "output_type": "stream",
     "text": [
      "44     1\n",
      "47     1\n",
      "4      0\n",
      "55     1\n",
      "26     0\n",
      "64     1\n",
      "73     1\n",
      "10     0\n",
      "40     1\n",
      "107    2\n",
      "18     0\n",
      "62     1\n",
      "11     0\n",
      "36     0\n",
      "89     2\n",
      "91     2\n",
      "109    2\n",
      "0      0\n",
      "88     2\n",
      "104    2\n",
      "65     1\n",
      "45     1\n",
      "31     0\n",
      "70     1\n",
      "Name: Leaf, dtype: int64\n"
     ]
    }
   ],
   "source": [
    "print(y_test)"
   ]
  },
  {
   "cell_type": "code",
   "execution_count": 696,
   "id": "9285d4a0-5b88-4b27-bb8f-9b3530f9e012",
   "metadata": {},
   "outputs": [],
   "source": [
    "#precision"
   ]
  },
  {
   "cell_type": "code",
   "execution_count": 697,
   "id": "7088bbc2-0597-46f2-9785-2e1c0d56449a",
   "metadata": {},
   "outputs": [
    {
     "name": "stdout",
     "output_type": "stream",
     "text": [
      "Precision: 1.0000\n"
     ]
    }
   ],
   "source": [
    "predicted_classes = np.argmax(y_pred, axis=1)\n",
    "precision = tf.keras.metrics.Precision()\n",
    "precision.update_state(y_test, predicted_classes)\n",
    "precision_result = precision.result().numpy()\n",
    "print(f'Precision: {precision_result:.4f}')"
   ]
  },
  {
   "cell_type": "code",
   "execution_count": 698,
   "id": "f33e93af-47eb-408a-90cd-af54cb6918ef",
   "metadata": {},
   "outputs": [],
   "source": [
    "# Recall"
   ]
  },
  {
   "cell_type": "code",
   "execution_count": 699,
   "id": "73bbd32b-c062-4704-8070-7453d56e1a52",
   "metadata": {},
   "outputs": [
    {
     "name": "stdout",
     "output_type": "stream",
     "text": [
      "Recall: 1.0000\n"
     ]
    }
   ],
   "source": [
    "recall = tf.keras.metrics.Recall()\n",
    "recall.update_state(y_test, predicted_classes)\n",
    "recall_result = recall.result().numpy()\n",
    "print(f'Recall: {recall_result:.4f}')"
   ]
  },
  {
   "cell_type": "code",
   "execution_count": 700,
   "id": "8c9303c4-3185-4c55-aedd-06d53b505ebc",
   "metadata": {},
   "outputs": [
    {
     "data": {
      "text/plain": [
       "<Axes: >"
      ]
     },
     "execution_count": 700,
     "metadata": {},
     "output_type": "execute_result"
    },
    {
     "data": {
      "image/png": "[encoded data removed]",
      "text/plain": [
       "<Figure size 640x480 with 1 Axes>"
      ]
     },
     "metadata": {},
     "output_type": "display_data"
    }
   ],
   "source": [
    "pd.DataFrame(history.history).plot()"
   ]
  },
  {
   "cell_type": "code",
   "execution_count": 701,
   "id": "e843bb07-2e6d-414f-afdc-5be7d9cc5fcc",
   "metadata": {},
   "outputs": [],
   "source": [
    "new_data = pd.DataFrame({\n",
    "    'Apex angle': [103],\n",
    "    'Base angle': [141],\n",
    "    'Ratio (H/W)': [1.60],  \n",
    "})"
   ]
  },
  {
   "cell_type": "code",
   "execution_count": 702,
   "id": "ad5d66fd-0bf1-408b-a2df-c1c1517e54e4",
   "metadata": {},
   "outputs": [],
   "source": [
    "new_data_scaled = scaler.transform(new_data)\n",
    "new_data_scaled_df = pd.DataFrame(new_data_scaled, columns=['Apex angle', 'Base angle', 'Ratio (H/W)'])"
   ]
  },
  {
   "cell_type": "code",
   "execution_count": 703,
   "id": "0c1df7aa-5635-47e6-9ab2-bb6d916f7595",
   "metadata": {},
   "outputs": [
    {
     "name": "stdout",
     "output_type": "stream",
     "text": [
      "1/1 [==============================] - 0s 14ms/step\n"
     ]
    }
   ],
   "source": [
    "new_predictions = model.predict(new_data_scaled_df)\n",
    "predicted_class = np.argmax(new_predictions)"
   ]
  },
  {
   "cell_type": "code",
   "execution_count": 704,
   "id": "4b49f461-5aeb-44d5-8550-da88dc0fe454",
   "metadata": {},
   "outputs": [
    {
     "name": "stdout",
     "output_type": "stream",
     "text": [
      "Predicted leaf type: Banyan tree\n"
     ]
    }
   ],
   "source": [
    "if predicted_class == 0:\n",
    "    print(\"Predicted leaf type: Jack tree\")\n",
    "elif predicted_class == 1:\n",
    "    print(\"Predicted leaf type: Chesaw tree\")\n",
    "else:\n",
    "    print(\"Predicted leaf type: Banyan tree\")"
   ]
  },
  {
   "cell_type": "code",
   "execution_count": null,
   "id": "ef5a92f2-8d77-43a3-b480-ac78773fe5de",
   "metadata": {},
   "outputs": [],
   "source": []
  }
 ],
 "metadata": {
  "kernelspec": {
   "display_name": "Python 3 (ipykernel)",
   "language": "python",
   "name": "python3"
  },
  "language_info": {
   "codemirror_mode": {
    "name": "ipython",
    "version": 3
   },
   "file_extension": ".py",
   "mimetype": "text/x-python",
   "name": "python",
   "nbconvert_exporter": "python",
   "pygments_lexer": "ipython3",
   "version": "3.8.18"
  }
 },
 "nbformat": 4,
 "nbformat_minor": 5
}
